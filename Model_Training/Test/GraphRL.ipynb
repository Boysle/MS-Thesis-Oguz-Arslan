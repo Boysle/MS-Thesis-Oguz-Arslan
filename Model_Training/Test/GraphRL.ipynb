{
 "cells": [
  {
   "cell_type": "code",
   "execution_count": 2,
   "id": "997c4955-819b-4ff1-ace6-9df54b3f4df6",
   "metadata": {
    "collapsed": true,
    "jupyter": {
     "outputs_hidden": true
    },
    "scrolled": true
   },
   "outputs": [
    {
     "name": "stdout",
     "output_type": "stream",
     "text": [
      "Requirement already satisfied: torch in c:\\users\\arslan\\anaconda3\\lib\\site-packages (2.5.1)\n",
      "Requirement already satisfied: torch-geometric in c:\\users\\arslan\\anaconda3\\lib\\site-packages (2.6.1)\n",
      "Requirement already satisfied: wandb in c:\\users\\arslan\\anaconda3\\lib\\site-packages (0.19.1)\n",
      "Requirement already satisfied: pandas in c:\\users\\arslan\\anaconda3\\lib\\site-packages (2.2.2)\n",
      "Requirement already satisfied: filelock in c:\\users\\arslan\\anaconda3\\lib\\site-packages (from torch) (3.13.1)\n",
      "Requirement already satisfied: typing-extensions>=4.8.0 in c:\\users\\arslan\\anaconda3\\lib\\site-packages (from torch) (4.12.2)\n",
      "Requirement already satisfied: networkx in c:\\users\\arslan\\anaconda3\\lib\\site-packages (from torch) (3.2.1)\n",
      "Requirement already satisfied: jinja2 in c:\\users\\arslan\\anaconda3\\lib\\site-packages (from torch) (3.1.4)\n",
      "Requirement already satisfied: fsspec in c:\\users\\arslan\\anaconda3\\lib\\site-packages (from torch) (2024.3.1)\n",
      "Requirement already satisfied: setuptools in c:\\users\\arslan\\anaconda3\\lib\\site-packages (from torch) (69.5.1)\n",
      "Requirement already satisfied: sympy==1.13.1 in c:\\users\\arslan\\anaconda3\\lib\\site-packages (from torch) (1.13.1)\n",
      "Requirement already satisfied: mpmath<1.4,>=1.1.0 in c:\\users\\arslan\\anaconda3\\lib\\site-packages (from sympy==1.13.1->torch) (1.3.0)\n",
      "Requirement already satisfied: aiohttp in c:\\users\\arslan\\anaconda3\\lib\\site-packages (from torch-geometric) (3.9.5)\n",
      "Requirement already satisfied: numpy in c:\\users\\arslan\\anaconda3\\lib\\site-packages (from torch-geometric) (1.26.4)\n",
      "Requirement already satisfied: psutil>=5.8.0 in c:\\users\\arslan\\anaconda3\\lib\\site-packages (from torch-geometric) (5.9.0)\n",
      "Requirement already satisfied: pyparsing in c:\\users\\arslan\\anaconda3\\lib\\site-packages (from torch-geometric) (3.0.9)\n",
      "Requirement already satisfied: requests in c:\\users\\arslan\\anaconda3\\lib\\site-packages (from torch-geometric) (2.32.2)\n",
      "Requirement already satisfied: tqdm in c:\\users\\arslan\\anaconda3\\lib\\site-packages (from torch-geometric) (4.66.4)\n",
      "Requirement already satisfied: click!=8.0.0,>=7.1 in c:\\users\\arslan\\anaconda3\\lib\\site-packages (from wandb) (8.1.7)\n",
      "Requirement already satisfied: docker-pycreds>=0.4.0 in c:\\users\\arslan\\anaconda3\\lib\\site-packages (from wandb) (0.4.0)\n",
      "Requirement already satisfied: gitpython!=3.1.29,>=1.0.0 in c:\\users\\arslan\\anaconda3\\lib\\site-packages (from wandb) (3.1.37)\n",
      "Requirement already satisfied: platformdirs in c:\\users\\arslan\\anaconda3\\lib\\site-packages (from wandb) (3.10.0)\n",
      "Requirement already satisfied: protobuf!=4.21.0,!=5.28.0,<6,>=3.19.0 in c:\\users\\arslan\\anaconda3\\lib\\site-packages (from wandb) (3.20.3)\n",
      "Requirement already satisfied: pydantic<3,>=2.6 in c:\\users\\arslan\\anaconda3\\lib\\site-packages (from wandb) (2.10.4)\n",
      "Requirement already satisfied: pyyaml in c:\\users\\arslan\\anaconda3\\lib\\site-packages (from wandb) (6.0.1)\n",
      "Requirement already satisfied: sentry-sdk>=2.0.0 in c:\\users\\arslan\\anaconda3\\lib\\site-packages (from wandb) (2.19.2)\n",
      "Requirement already satisfied: setproctitle in c:\\users\\arslan\\anaconda3\\lib\\site-packages (from wandb) (1.3.4)\n",
      "Requirement already satisfied: python-dateutil>=2.8.2 in c:\\users\\arslan\\anaconda3\\lib\\site-packages (from pandas) (2.9.0.post0)\n",
      "Requirement already satisfied: pytz>=2020.1 in c:\\users\\arslan\\anaconda3\\lib\\site-packages (from pandas) (2024.1)\n",
      "Requirement already satisfied: tzdata>=2022.7 in c:\\users\\arslan\\anaconda3\\lib\\site-packages (from pandas) (2023.3)\n",
      "Requirement already satisfied: colorama in c:\\users\\arslan\\anaconda3\\lib\\site-packages (from click!=8.0.0,>=7.1->wandb) (0.4.6)\n",
      "Requirement already satisfied: six>=1.4.0 in c:\\users\\arslan\\anaconda3\\lib\\site-packages (from docker-pycreds>=0.4.0->wandb) (1.16.0)\n",
      "Requirement already satisfied: gitdb<5,>=4.0.1 in c:\\users\\arslan\\anaconda3\\lib\\site-packages (from gitpython!=3.1.29,>=1.0.0->wandb) (4.0.7)\n",
      "Requirement already satisfied: annotated-types>=0.6.0 in c:\\users\\arslan\\anaconda3\\lib\\site-packages (from pydantic<3,>=2.6->wandb) (0.6.0)\n",
      "Requirement already satisfied: pydantic-core==2.27.2 in c:\\users\\arslan\\anaconda3\\lib\\site-packages (from pydantic<3,>=2.6->wandb) (2.27.2)\n",
      "Requirement already satisfied: charset-normalizer<4,>=2 in c:\\users\\arslan\\anaconda3\\lib\\site-packages (from requests->torch-geometric) (2.0.4)\n",
      "Requirement already satisfied: idna<4,>=2.5 in c:\\users\\arslan\\anaconda3\\lib\\site-packages (from requests->torch-geometric) (3.10)\n",
      "Requirement already satisfied: urllib3<3,>=1.21.1 in c:\\users\\arslan\\anaconda3\\lib\\site-packages (from requests->torch-geometric) (2.2.2)\n",
      "Requirement already satisfied: certifi>=2017.4.17 in c:\\users\\arslan\\anaconda3\\lib\\site-packages (from requests->torch-geometric) (2024.8.30)\n",
      "Requirement already satisfied: aiosignal>=1.1.2 in c:\\users\\arslan\\anaconda3\\lib\\site-packages (from aiohttp->torch-geometric) (1.2.0)\n",
      "Requirement already satisfied: attrs>=17.3.0 in c:\\users\\arslan\\anaconda3\\lib\\site-packages (from aiohttp->torch-geometric) (23.1.0)\n",
      "Requirement already satisfied: frozenlist>=1.1.1 in c:\\users\\arslan\\anaconda3\\lib\\site-packages (from aiohttp->torch-geometric) (1.4.0)\n",
      "Requirement already satisfied: multidict<7.0,>=4.5 in c:\\users\\arslan\\anaconda3\\lib\\site-packages (from aiohttp->torch-geometric) (6.0.4)\n",
      "Requirement already satisfied: yarl<2.0,>=1.0 in c:\\users\\arslan\\anaconda3\\lib\\site-packages (from aiohttp->torch-geometric) (1.9.3)\n",
      "Requirement already satisfied: MarkupSafe>=2.0 in c:\\users\\arslan\\anaconda3\\lib\\site-packages (from jinja2->torch) (2.1.3)\n",
      "Requirement already satisfied: smmap<5,>=3.0.1 in c:\\users\\arslan\\anaconda3\\lib\\site-packages (from gitdb<5,>=4.0.1->gitpython!=3.1.29,>=1.0.0->wandb) (4.0.0)\n",
      "Note: you may need to restart the kernel to use updated packages.\n"
     ]
    }
   ],
   "source": [
    "pip install torch torch-geometric wandb pandas"
   ]
  },
  {
   "cell_type": "code",
   "execution_count": 1,
   "id": "1a9fb5e2-d591-4fe4-95cb-cfae9e5f7343",
   "metadata": {},
   "outputs": [],
   "source": [
    "import os\n",
    "import torch\n",
    "import torch.nn.functional as F\n",
    "import glob\n",
    "import numpy as np\n",
    "import pandas as pd\n",
    "import wandb\n",
    "from torch_geometric.data import Data\n",
    "from torch_geometric.nn import GCNConv\n",
    "\n",
    "from torch.utils.data import Dataset, DataLoader\n"
   ]
  },
  {
   "cell_type": "code",
   "execution_count": 3,
   "id": "3d0918da-318d-488b-8451-662871668002",
   "metadata": {},
   "outputs": [
    {
     "name": "stderr",
     "output_type": "stream",
     "text": [
      "wandb: Using wandb-core as the SDK backend.  Please refer to https://wandb.me/wandb-core for more information.\n",
      "wandb: Currently logged in as: boysle (boysle-boun). Use `wandb login --relogin` to force relogin\n"
     ]
    },
    {
     "data": {
      "text/html": [
       "Tracking run with wandb version 0.19.1"
      ],
      "text/plain": [
       "<IPython.core.display.HTML object>"
      ]
     },
     "metadata": {},
     "output_type": "display_data"
    },
    {
     "data": {
      "text/html": [
       "Run data is saved locally in <code>C:\\Users\\Arslan\\Desktop\\MS-Thesis-Oguz-Arslan\\Model_Training\\Thesis\\wandb\\run-20250327_002341-gh5yz7mz</code>"
      ],
      "text/plain": [
       "<IPython.core.display.HTML object>"
      ]
     },
     "metadata": {},
     "output_type": "display_data"
    },
    {
     "data": {
      "text/html": [
       "Syncing run <strong><a href='https://wandb.ai/boysle-boun/rocket-league-gnn/runs/gh5yz7mz' target=\"_blank\">fresh-bush-3</a></strong> to <a href='https://wandb.ai/boysle-boun/rocket-league-gnn' target=\"_blank\">Weights & Biases</a> (<a href='https://wandb.me/developer-guide' target=\"_blank\">docs</a>)<br>"
      ],
      "text/plain": [
       "<IPython.core.display.HTML object>"
      ]
     },
     "metadata": {},
     "output_type": "display_data"
    },
    {
     "data": {
      "text/html": [
       " View project at <a href='https://wandb.ai/boysle-boun/rocket-league-gnn' target=\"_blank\">https://wandb.ai/boysle-boun/rocket-league-gnn</a>"
      ],
      "text/plain": [
       "<IPython.core.display.HTML object>"
      ]
     },
     "metadata": {},
     "output_type": "display_data"
    },
    {
     "data": {
      "text/html": [
       " View run at <a href='https://wandb.ai/boysle-boun/rocket-league-gnn/runs/gh5yz7mz' target=\"_blank\">https://wandb.ai/boysle-boun/rocket-league-gnn/runs/gh5yz7mz</a>"
      ],
      "text/plain": [
       "<IPython.core.display.HTML object>"
      ]
     },
     "metadata": {},
     "output_type": "display_data"
    },
    {
     "data": {
      "text/html": [
       "<button onClick=\"this.nextSibling.style.display='block';this.style.display='none';\">Display W&B run</button><iframe src='https://wandb.ai/boysle-boun/rocket-league-gnn/runs/gh5yz7mz?jupyter=true' style='border:none;width:100%;height:420px;display:none;'></iframe>"
      ],
      "text/plain": [
       "<wandb.sdk.wandb_run.Run at 0x29f6a85fec0>"
      ]
     },
     "execution_count": 3,
     "metadata": {},
     "output_type": "execute_result"
    }
   ],
   "source": [
    "# Initialize Weights & Biases\n",
    "wandb.init(project=\"rocket-league-gnn\")"
   ]
  },
  {
   "cell_type": "code",
   "execution_count": 40,
   "id": "fb26cbf5-c0e1-456d-aae5-d5b9629b22be",
   "metadata": {},
   "outputs": [],
   "source": [
    "class RocketLeagueDataset(Dataset):\n",
    "    def __init__(self, root_dir):\n",
    "        super().__init__()\n",
    "        self.file_paths = glob.glob(os.path.join(root_dir, \"**\", \"*.csv\"), recursive=True)\n",
    "\n",
    "    def __len__(self):\n",
    "        return len(self.file_paths)\n",
    "\n",
    "    def __getitem__(self, idx):\n",
    "        file_path = self.file_paths[idx]\n",
    "        return self.process_file(file_path)\n",
    "\n",
    "    def process_file(self, file_path):\n",
    "        df = pd.read_csv(file_path)\n",
    "        data_list = []\n",
    "\n",
    "        for _, row in df.iterrows():\n",
    "            data_list.append(self.process_row(row, mirror=False))  # Original\n",
    "            data_list.append(self.process_row(row, mirror=True))   # Mirrored\n",
    "\n",
    "        return data_list  # Return only one file’s data at a time\n",
    "\n",
    "    def process_row(self, row, mirror=False):\n",
    "        # Extract player features (nodes)\n",
    "        player_features = []\n",
    "        for i in range(6):  # 6 players\n",
    "            start_idx = i * 9\n",
    "            features = row[start_idx:start_idx + 9].values.astype('float16')  # Convert to float16\n",
    "            if mirror:\n",
    "                features[0] *= -1  # Mirror x-axis\n",
    "                features[1] *= -1  # Mirror y-axis\n",
    "                features[3] *= -1  # Mirror x velocity\n",
    "                features[4] *= -1  # Mirror y velocity\n",
    "            player_features.append(features)\n",
    "        x = torch.tensor(np.array(player_features), dtype=torch.float16)  # Convert the list to a NumPy array first\n",
    "\n",
    "        # Ball state vector\n",
    "        state_vector = torch.tensor([\n",
    "            row['ball_pos_x'], row['ball_pos_y'], row['ball_pos_z']], dtype=torch.float16)\n",
    "\n",
    "        if mirror:\n",
    "            state_vector[0] *= -1  # Mirror ball x-axis\n",
    "            state_vector[1] *= -1  # Mirror ball y-axis\n",
    "\n",
    "        # Labels\n",
    "        y = torch.tensor([row['team_0_goal_prev_5s'], row['team_1_goal_prev_5s']], dtype=torch.float16)\n",
    "\n",
    "        # Edge index (fully connected graph for 6 players)\n",
    "        edge_index = torch.combinations(torch.arange(6), r=2).t().contiguous()\n",
    "\n",
    "        return Data(x=x, edge_index=edge_index, state=state_vector, y=y)\n",
    "\n",
    "# Create a DataLoader that loads one file at a time\n",
    "dataset_root = \"E:\\\\Raw RL Esports Replays\\\\Day 3 Swiss Stage\"\n",
    "dataset = RocketLeagueDataset(dataset_root)\n",
    "dataloader = DataLoader(dataset, batch_size=32, shuffle=True, collate_fn=lambda x: torch.utils.data.dataloader.default_collate(x))"
   ]
  },
  {
   "cell_type": "code",
   "execution_count": 42,
   "id": "e8f3013c-b6a0-4361-8e01-c669321ed7a3",
   "metadata": {},
   "outputs": [],
   "source": [
    "# Define GCN model\n",
    "class RocketLeagueGCN(torch.nn.Module):\n",
    "    def __init__(self, input_dim, state_dim, hidden_dim, output_dim):\n",
    "        super().__init__()\n",
    "        self.gcn1 = GCNConv(input_dim, hidden_dim)\n",
    "        self.gcn2 = GCNConv(hidden_dim, hidden_dim)\n",
    "        self.fc = torch.nn.Linear(hidden_dim + state_dim, output_dim)\n",
    "\n",
    "    def forward(self, data):\n",
    "        x, edge_index, state = data.x, data.edge_index, data.state\n",
    "        x = F.relu(self.gcn1(x, edge_index))\n",
    "        x = F.relu(self.gcn2(x, edge_index))\n",
    "        x = torch.cat([x.mean(dim=0), state], dim=-1)  # Aggregate graph + state vector\n",
    "        return torch.sigmoid(self.fc(x))  # Output probability"
   ]
  },
  {
   "cell_type": "code",
   "execution_count": 44,
   "id": "702c26c2-50de-4a9b-95a5-3d1af49d0eb8",
   "metadata": {},
   "outputs": [],
   "source": [
    "# Training setup\n",
    "device = torch.device(\"cuda\" if torch.cuda.is_available() else \"cpu\")\n",
    "\n",
    "model = RocketLeagueGCN(input_dim=6, state_dim=3, hidden_dim=32, output_dim=2).to(device)\n",
    "optimizer = torch.optim.Adam(model.parameters(), lr=0.001)\n",
    "loss_fn = torch.nn.BCELoss()"
   ]
  },
  {
   "cell_type": "code",
   "execution_count": 46,
   "id": "b3583b34-ea19-4082-8625-3e63221bd521",
   "metadata": {
    "scrolled": true
   },
   "outputs": [
    {
     "ename": "AttributeError",
     "evalue": "'list' object has no attribute 'to'",
     "output_type": "error",
     "traceback": [
      "\u001b[1;31m---------------------------------------------------------------------------\u001b[0m",
      "\u001b[1;31mAttributeError\u001b[0m                            Traceback (most recent call last)",
      "Cell \u001b[1;32mIn[46], line 12\u001b[0m\n\u001b[0;32m      9\u001b[0m total_loss \u001b[38;5;241m=\u001b[39m \u001b[38;5;241m0\u001b[39m\n\u001b[0;32m     11\u001b[0m \u001b[38;5;28;01mfor\u001b[39;00m batch \u001b[38;5;129;01min\u001b[39;00m dataloader:  \u001b[38;5;66;03m# ✅ Now batch is a Batch object\u001b[39;00m\n\u001b[1;32m---> 12\u001b[0m     batch \u001b[38;5;241m=\u001b[39m batch\u001b[38;5;241m.\u001b[39mto(device)  \u001b[38;5;66;03m# ✅ No more AttributeError!\u001b[39;00m\n\u001b[0;32m     13\u001b[0m     optimizer\u001b[38;5;241m.\u001b[39mzero_grad()\n\u001b[0;32m     14\u001b[0m     out \u001b[38;5;241m=\u001b[39m model(batch)\n",
      "\u001b[1;31mAttributeError\u001b[0m: 'list' object has no attribute 'to'"
     ]
    }
   ],
   "source": [
    "from torch_geometric.loader import DataLoader  # Correct import\n",
    "\n",
    "# Create a DataLoader that loads batches correctly\n",
    "dataloader = DataLoader(dataset, batch_size=32, shuffle=True, collate_fn=Batch.from_data_list)\n",
    "\n",
    "# Training loop\n",
    "for epoch in range(epochs):\n",
    "    model.train()\n",
    "    total_loss = 0\n",
    "\n",
    "    for batch in dataloader:  # ✅ Now batch is a Batch object\n",
    "        batch = batch.to(device)  # ✅ No more AttributeError!\n",
    "        optimizer.zero_grad()\n",
    "        out = model(batch)\n",
    "        loss = loss_fn(out, batch.y)\n",
    "        loss.backward()\n",
    "        optimizer.step()\n",
    "        total_loss += loss.item()\n",
    "\n",
    "    print(f\"Epoch {epoch+1}, Loss: {total_loss / len(dataloader):.4f}\")\n"
   ]
  },
  {
   "cell_type": "code",
   "execution_count": null,
   "id": "3c5866da-e15d-4ce9-b3bd-9dc51b238841",
   "metadata": {},
   "outputs": [],
   "source": [
    "# Save model\n",
    "torch.save(model.state_dict(), \"rocket_league_gcn.pth\")\n",
    "wandb.save(\"rocket_league_gcn.pth\")"
   ]
  }
 ],
 "metadata": {
  "kernelspec": {
   "display_name": "Python 3 (ipykernel)",
   "language": "python",
   "name": "python3"
  },
  "language_info": {
   "codemirror_mode": {
    "name": "ipython",
    "version": 3
   },
   "file_extension": ".py",
   "mimetype": "text/x-python",
   "name": "python",
   "nbconvert_exporter": "python",
   "pygments_lexer": "ipython3",
   "version": "3.12.4"
  }
 },
 "nbformat": 4,
 "nbformat_minor": 5
}
