{
 "cells": [
  {
   "cell_type": "markdown",
   "id": "b3be0318-c055-4a1c-bd8e-f3642012a05f",
   "metadata": {},
   "source": [
    "# 🌟 **Oguz Arslan MS Thesis** "
   ]
  },
  {
   "cell_type": "markdown",
   "id": "8bbb6d5d-7ada-4611-874b-52255cbc8b4a",
   "metadata": {},
   "source": [
    "# ⚽ **Rocket League Prediction Model** 🚗"
   ]
  },
  {
   "cell_type": "markdown",
   "id": "d1128117-db65-4f8a-8ea8-8a4e075eccd4",
   "metadata": {},
   "source": [
    "## 🎨 **Table of Contents** \n",
    "1. [Introduction](#introduction)\n",
    "2. [Data Analysis](#data-analysis)\n",
    "3. [Results](#results)\n",
    "4. [Conclusion](#conclusion)"
   ]
  },
  {
   "cell_type": "markdown",
   "id": "09a67427-ea62-43f0-b045-c25c4ceccdd5",
   "metadata": {},
   "source": [
    "### <a id=\"introduction\"></a> 🔍 **Introduction** \n",
    "Welcome to this notebook! Here we take the popular video game [Rocket League](https://en.wikipedia.org/wiki/Rocket_League) (RL) and train a goal scoring prediction model using past professional esports matches."
   ]
  },
  {
   "cell_type": "markdown",
   "id": "937dd4f1-16f3-413f-83ce-12ba83cf7c65",
   "metadata": {},
   "source": [
    "<div align=\"center\">\n",
    "    <img src=\"Images/Example Gameplay.gif\" alt=\"GIF example gameplay\" width=\"700\"/>\n",
    "</div>"
   ]
  },
  {
   "cell_type": "markdown",
   "id": "281f8155-9d74-48f7-add8-2ed5c6cce6e4",
   "metadata": {},
   "source": [
    "#### 💬 **Dataset Description**\n",
    "The dataset consists of sequences of snapshots of the state of a RL match, including position and velocity of all players and the ball, as well as extra information. The **goal** is to predict -- from a given snapshot in the game -- for each team, the probability that they will score within the next 10 seconds of game time.\n",
    "\n",
    "The data was taken from professional RL matches. Each event consists of a chronological series of frames recorded at 10 frames per second. All events begin with a kickoff, and most end in one team scoring a goal, but some are truncated and end with no goal scored due to circumstances which can cause gameplay strategies to shift, for example 1) nearing end of regulation (where the game continues until the ball touches the ground) or 2) becoming non-competitive, e.g. one team winning by 3+ goals with little time remaining."
   ]
  },
  {
   "cell_type": "markdown",
   "id": "4c185073-dade-48d5-9967-3e19a231b8b4",
   "metadata": {},
   "source": [
    "#### 🗃️ **Dataset Columns**\n",
    "- **`game_num`** _(train only)_: Unique identifier for the game from which the event was taken.\n",
    "- **`event_id`** _(train only)_: Unique identifier for the sequence of consecutive frames.\n",
    "- **`event_time`** _(train only)_: Time in seconds before the event ended, either by a goal being scored or simply when we decided to truncate the timeseries if a goal was not scored.\n",
    "- **`ball_pos_[xyz]`**: Ball's position as a 3D vector.\n",
    "- **`ball_vel_[xyz]`**: Ball's velocity as a 3D vector.\n",
    "- For `i` in `[0,6)`:\n",
    "    - **`p{i}_pos_[xyz]`**: Player `i`'s position as a 3D vector.\n",
    "    - **`p{i}_vel_[xyz]`**: Player `i`'s velocity as a 3D vector.\n",
    "    - **`p{i}_boost`**: Player `i`'s boost remaining, in `[0, 100]`. A player can consume boost to substantially increase their speed, and is required to fly up into the `z` dimension (besides driving up a wall, or the small air gained by a jump).\n",
    "    - All `p{i}` columns will be `NaN` if and only if the player is [demolished](https://rocketleague.fandom.com/wiki/Demolition) (destroyed by an enemy player; will respawn after 3 seconds).\n",
    "    - Players 0, 1, and 2 make up team `A` and players 3, 4, and 5 make up team `B`.\n",
    "    - The orientation vector of the player's car (which way the car is facing) does not necessarily match the player's velocity vector, and this dataset does not capture orientation data.\n",
    "- For `i` in `[0, 6)`:\n",
    "    - **`boost{i}_timer`**: Time in seconds until big boost orb `i` respawns, or `0` if it is available. Big boost orbs grant a full 100 boost to a player driving over it. The orb `(x, y)` locations are roughly `[ (-61.4, -81.9), (61.4, -81.9), (-71.7, 0), (71.7, 0), (-61.4, 81.9), (61.4, 81.9) ]` with `z = 0`. (Players can also gain boost from small boost pads across the map, but we do not capture those pads in this dataset.)\n",
    "- **`player_scoring_next`** _(train only)_: Which player scores at the end of the current event, in `[0, 6)`, or `-1` if the event does not end in a goal.\n",
    "- **`team_scoring_next`** _(train only)_: Which team scores at the end of the current event (`A` or `B`), or `NaN` if the event does not end in a goal.\n",
    "- **`team_[A|B]_scoring_within_10sec`** _(train only)_: **[Target columns]** Value of `1` if `team_scoring_next == [A|B]` and `time_before_event` is in `[-10, 0]`, otherwise `0`.\n",
    "- **`id`** _(test only)_: Unique identifier for each test row. The result should be a pair of `team_A_scoring_within_10sec` and `team_B_scoring_within_10sec` probability predictions ffor each `id`, where the predictions can range the real numbers from `[0, 1]`."
   ]
  },
  {
   "attachments": {},
   "cell_type": "markdown",
   "id": "196f6186-7d50-467b-9489-b3bcc4ccb9f3",
   "metadata": {},
   "source": [
    "#### 🔢 **Useful Game Values**\n",
    "For more information, check out [RLBot Wiki](https://wiki.rlbot.org/botmaking/useful-game-values/).\n",
    "\n",
    "<img src=\"Images/Map Dimensions.png\" alt=\"image\" width=\"500\"/> <img src=\"Images/Boost Pad Locations.png\" alt=\"image\" width=\"466\"/> "
   ]
  },
  {
   "cell_type": "markdown",
   "id": "789bf59c-ac72-4f25-91dc-4baba5963160",
   "metadata": {},
   "source": [
    "#### <a id=\"data-analysis\"></a> 📊 **Data Analysis** \n",
    "In this section, we will dive deep into the data using various tools and techniques."
   ]
  },
  {
   "cell_type": "markdown",
   "id": "a2816356-8b21-4196-95cb-3b192528d3a3",
   "metadata": {},
   "source": [
    "Importing required libraries"
   ]
  },
  {
   "cell_type": "code",
   "execution_count": 4,
   "id": "69f27108-1529-44b1-b3f8-ff459a2cb53d",
   "metadata": {},
   "outputs": [],
   "source": [
    "import pandas as pd"
   ]
  },
  {
   "cell_type": "code",
   "execution_count": 140,
   "id": "14fa5c74-b966-44a2-a547-794e8cdb594f",
   "metadata": {},
   "outputs": [],
   "source": [
    "df = pd.read_csv(r'C:\\Users\\Arslan\\Desktop\\All Data\\train_0.csv') # The data frame"
   ]
  },
  {
   "cell_type": "markdown",
   "id": "ce043679-c88e-44fd-ab71-cb57b3ff52ef",
   "metadata": {},
   "source": [
    "#### ✏️ **Tutorial Block**"
   ]
  },
  {
   "cell_type": "code",
   "execution_count": 86,
   "id": "0328489c-fca7-4e6a-8bb0-8f15d204bcad",
   "metadata": {},
   "outputs": [
    {
     "data": {
      "text/plain": [
       "-0.6418"
      ]
     },
     "execution_count": 86,
     "metadata": {},
     "output_type": "execute_result"
    }
   ],
   "source": [
    "## Read headers\n",
    "df.columns\n",
    "\n",
    "## Read a selected column (from rows 0 to 4)\n",
    "df['game_num'][0:5] \n",
    "\n",
    "## Read many selected columns (from rows 0 to 9)\n",
    "df[['game_num', 'p1_pos_y', 'p1_boost']][0:10]\n",
    "\n",
    "## Read a selected row\n",
    "df.iloc[0]\n",
    "\n",
    "## Read many selected rows\n",
    "df.iloc[[1, 3, 5]] # or df.iloc[1:7]\n",
    "\n",
    "## Read a specific location (15th row and 23rd column)\n",
    "df.iloc[15,23]"
   ]
  },
  {
   "cell_type": "code",
   "execution_count": 13,
   "id": "ce54451c-59d5-414e-a056-ed023324b4e4",
   "metadata": {},
   "outputs": [
    {
     "name": "stdout",
     "output_type": "stream",
     "text": [
      "0 1\n",
      "1 1\n",
      "2 1\n",
      "3 1\n",
      "4 1\n",
      "5 1\n",
      "6 1\n",
      "7 1\n",
      "8 1\n",
      "9 1\n"
     ]
    }
   ],
   "source": [
    "## Iterating through rows \n",
    "for index, row in df.head(10).iterrows(): ## Loop through the first 10 rows\n",
    "    print(index, row['game_num']) ## Print the index and game number for each row"
   ]
  },
  {
   "cell_type": "code",
   "execution_count": null,
   "id": "49c56fd8-ab95-4e2c-9182-cc03d9b188da",
   "metadata": {},
   "outputs": [],
   "source": []
  }
 ],
 "metadata": {
  "kernelspec": {
   "display_name": "Python 3 (ipykernel)",
   "language": "python",
   "name": "python3"
  },
  "language_info": {
   "codemirror_mode": {
    "name": "ipython",
    "version": 3
   },
   "file_extension": ".py",
   "mimetype": "text/x-python",
   "name": "python",
   "nbconvert_exporter": "python",
   "pygments_lexer": "ipython3",
   "version": "3.12.4"
  }
 },
 "nbformat": 4,
 "nbformat_minor": 5
}
