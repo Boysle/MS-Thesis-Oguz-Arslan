{
 "cells": [
  {
   "cell_type": "markdown",
   "id": "f3f28c2e",
   "metadata": {},
   "source": [
    "# GNN STARTER PACK\n",
    "From [here](https://www.kaggle.com/code/validmodel/graph-neural-network-starter-for-beginners)."
   ]
  },
  {
   "cell_type": "markdown",
   "id": "7e3973a8",
   "metadata": {},
   "source": [
    "## 1) The basic Math for graph structured data"
   ]
  },
  {
   "cell_type": "markdown",
   "id": "c442d618",
   "metadata": {},
   "source": [
    "#### Code\n",
    "\n",
    "The function `create_adj(size)` takes a single argument, size, which is the number of nodes in the graph. This function will create a size x size adjacency matrix.\n",
    "\n",
    "A size x size matrix of random values between 0 and 1 is created. Each value represents a potential connection between two nodes in the graph.\n",
    "\n",
    "Any value greater than 0.5 is set to 1, indicating a connection between two nodes. Any value less than or equal to 0.5 is set to 0, indicating no connection. This creates a binary matrix where 1s represent edges and 0s represent no connection between pairs of nodes.\n",
    "\n",
    "The function loops through each element in the matrix. If i == j, it sets a[i, j] = 0, which means there are no self-loops (a node is not connected to itself)."
   ]
  },
  {
   "cell_type": "code",
   "execution_count": 2,
   "id": "f1e8bbf0",
   "metadata": {},
   "outputs": [
    {
     "name": "stdout",
     "output_type": "stream",
     "text": [
      "Requirement already satisfied: torchnet in c:\\users\\arslan\\anaconda3\\lib\\site-packages (0.0.4)\n",
      "Requirement already satisfied: networkx in c:\\users\\arslan\\anaconda3\\lib\\site-packages (3.2.1)\n",
      "Requirement already satisfied: torch in c:\\users\\arslan\\anaconda3\\lib\\site-packages (from torchnet) (2.5.1)\n",
      "Requirement already satisfied: six in c:\\users\\arslan\\anaconda3\\lib\\site-packages (from torchnet) (1.16.0)\n",
      "Requirement already satisfied: visdom in c:\\users\\arslan\\anaconda3\\lib\\site-packages (from torchnet) (0.2.4)\n",
      "Requirement already satisfied: filelock in c:\\users\\arslan\\anaconda3\\lib\\site-packages (from torch->torchnet) (3.13.1)\n",
      "Requirement already satisfied: typing-extensions>=4.8.0 in c:\\users\\arslan\\anaconda3\\lib\\site-packages (from torch->torchnet) (4.11.0)\n",
      "Requirement already satisfied: jinja2 in c:\\users\\arslan\\anaconda3\\lib\\site-packages (from torch->torchnet) (3.1.4)\n",
      "Requirement already satisfied: fsspec in c:\\users\\arslan\\anaconda3\\lib\\site-packages (from torch->torchnet) (2024.3.1)\n",
      "Requirement already satisfied: setuptools in c:\\users\\arslan\\anaconda3\\lib\\site-packages (from torch->torchnet) (69.5.1)\n",
      "Requirement already satisfied: sympy==1.13.1 in c:\\users\\arslan\\anaconda3\\lib\\site-packages (from torch->torchnet) (1.13.1)\n",
      "Requirement already satisfied: mpmath<1.4,>=1.1.0 in c:\\users\\arslan\\anaconda3\\lib\\site-packages (from sympy==1.13.1->torch->torchnet) (1.3.0)\n",
      "Requirement already satisfied: numpy>=1.8 in c:\\users\\arslan\\anaconda3\\lib\\site-packages (from visdom->torchnet) (1.26.4)\n",
      "Requirement already satisfied: scipy in c:\\users\\arslan\\anaconda3\\lib\\site-packages (from visdom->torchnet) (1.13.1)\n",
      "Requirement already satisfied: requests in c:\\users\\arslan\\anaconda3\\lib\\site-packages (from visdom->torchnet) (2.32.2)\n",
      "Requirement already satisfied: tornado in c:\\users\\arslan\\anaconda3\\lib\\site-packages (from visdom->torchnet) (6.4.1)\n",
      "Requirement already satisfied: jsonpatch in c:\\users\\arslan\\anaconda3\\lib\\site-packages (from visdom->torchnet) (1.33)\n",
      "Requirement already satisfied: websocket-client in c:\\users\\arslan\\anaconda3\\lib\\site-packages (from visdom->torchnet) (1.8.0)\n",
      "Requirement already satisfied: pillow in c:\\users\\arslan\\anaconda3\\lib\\site-packages (from visdom->torchnet) (10.3.0)\n",
      "Requirement already satisfied: MarkupSafe>=2.0 in c:\\users\\arslan\\anaconda3\\lib\\site-packages (from jinja2->torch->torchnet) (2.1.3)\n",
      "Requirement already satisfied: jsonpointer>=1.9 in c:\\users\\arslan\\anaconda3\\lib\\site-packages (from jsonpatch->visdom->torchnet) (2.1)\n",
      "Requirement already satisfied: charset-normalizer<4,>=2 in c:\\users\\arslan\\anaconda3\\lib\\site-packages (from requests->visdom->torchnet) (2.0.4)\n",
      "Requirement already satisfied: idna<4,>=2.5 in c:\\users\\arslan\\anaconda3\\lib\\site-packages (from requests->visdom->torchnet) (3.10)\n",
      "Requirement already satisfied: urllib3<3,>=1.21.1 in c:\\users\\arslan\\anaconda3\\lib\\site-packages (from requests->visdom->torchnet) (2.2.2)\n",
      "Requirement already satisfied: certifi>=2017.4.17 in c:\\users\\arslan\\anaconda3\\lib\\site-packages (from requests->visdom->torchnet) (2024.8.30)\n"
     ]
    }
   ],
   "source": [
    "!pip install torchnet networkx"
   ]
  },
  {
   "cell_type": "code",
   "execution_count": 4,
   "id": "01c88958",
   "metadata": {
    "lines_to_next_cell": 1
   },
   "outputs": [],
   "source": [
    "import torch\n",
    "\n",
    "\n",
    "def create_adj(size):\n",
    "    a = torch.rand(size,size)\n",
    "    a[a>0.5] = 1    \n",
    "    a[a<=0.5] = 0\n",
    "    for i in range(a.shape[0]):\n",
    "        for j in range(a.shape[1]):\n",
    "            if i==j:\n",
    "                a[i,j] = 0\n",
    "    return a"
   ]
  },
  {
   "cell_type": "markdown",
   "id": "e9b8bc23",
   "metadata": {},
   "source": [
    "## 2) Graph laplacian"
   ]
  },
  {
   "cell_type": "markdown",
   "id": "74435d36",
   "metadata": {},
   "source": [
    "#### Code\n",
    "For the adjacency matrix `a`, `a.sum(dim=-1)` calculates the degree of each node by summing each row in `a`. This gives a vector where each entry represents the degree of a node. \n",
    "\n",
    "Then, `torch.diag(...)` creates a diagonal matrix from this degree vector, giving us the degree matrix 𝐷.\n",
    "\n",
    "The function `graph_lapl(a)` computes the graph Laplacian matrix 𝐿 by subtracting the adjacency matrix 𝐴 from the degree matrix 𝐷."
   ]
  },
  {
   "cell_type": "code",
   "execution_count": 6,
   "id": "c9480f34",
   "metadata": {},
   "outputs": [
    {
     "name": "stdout",
     "output_type": "stream",
     "text": [
      " Degree matrix D:\n",
      " tensor([[3., 0., 0., 0., 0.],\n",
      "        [0., 3., 0., 0., 0.],\n",
      "        [0., 0., 2., 0., 0.],\n",
      "        [0., 0., 0., 1., 0.],\n",
      "        [0., 0., 0., 0., 1.]])\n",
      " Adjacency matrix A:\n",
      " tensor([[0., 0., 1., 1., 1.],\n",
      "        [1., 0., 1., 0., 1.],\n",
      "        [0., 1., 0., 1., 0.],\n",
      "        [0., 1., 0., 0., 0.],\n",
      "        [0., 1., 0., 0., 0.]])\n",
      " Laplacian matrix L:\n",
      " tensor([[ 3.,  0., -1., -1., -1.],\n",
      "        [-1.,  3., -1.,  0., -1.],\n",
      "        [ 0., -1.,  2., -1.,  0.],\n",
      "        [ 0., -1.,  0.,  1.,  0.],\n",
      "        [ 0., -1.,  0.,  0.,  1.]])\n"
     ]
    }
   ],
   "source": [
    "def degree_matrix(a):\n",
    "  return torch.diag(a.sum(dim=-1))\n",
    "\n",
    "a = create_adj(5)\n",
    "d = degree_matrix(a)\n",
    "\n",
    "from colorama import Fore\n",
    "\n",
    "print(\" Degree matrix D:\\n\", d)\n",
    "\n",
    "def graph_lapl(a):\n",
    "  return degree_matrix(a)-a\n",
    "\n",
    "print(\" Adjacency matrix A:\\n\", a)\n",
    "print(\" Laplacian matrix L:\\n\", graph_lapl(a))"
   ]
  },
  {
   "cell_type": "markdown",
   "id": "45b425cb",
   "metadata": {},
   "source": [
    "#### Code\n",
    "The function `nx.petersen_graph()` generates a predefined graph structure known as the Petersen graph, which has 10 nodes and 15 edges.\n",
    "\n",
    "Different layout styles of the same graph are presented."
   ]
  },
  {
   "cell_type": "code",
   "execution_count": 8,
   "id": "e436bd1b",
   "metadata": {},
   "outputs": [
    {
     "data": {
      "image/png": "[encoded data removed]",
      "text/plain": [
       "<Figure size 640x480 with 2 Axes>"
      ]
     },
     "metadata": {},
     "output_type": "display_data"
    }
   ],
   "source": [
    "import matplotlib.pyplot as plt\n",
    "import networkx as nx\n",
    "G = nx.petersen_graph()\n",
    "plt.subplot(121)\n",
    "nx.draw(G, with_labels=False, font_weight='bold')\n",
    "plt.subplot(122)\n",
    "nx.draw_shell(G, nlist=[range(5, 10), range(5)], with_labels=False, font_weight='bold')"
   ]
  },
  {
   "cell_type": "code",
   "execution_count": 10,
   "id": "d3f9bae6",
   "metadata": {
    "lines_to_next_cell": 1
   },
   "outputs": [
    {
     "data": {
      "image/png": "[encoded data removed]",
      "text/plain": [
       "<Figure size 640x480 with 4 Axes>"
      ]
     },
     "metadata": {},
     "output_type": "display_data"
    }
   ],
   "source": [
    "options = {\n",
    "   'node_color': 'blue',\n",
    "   'node_size': 100,\n",
    "   'width': 2,\n",
    "}\n",
    "plt.subplot(221)\n",
    "nx.draw_random(G, **options)\n",
    "plt.subplot(222)\n",
    "nx.draw_circular(G, **options)\n",
    "plt.subplot(223)\n",
    "nx.draw_spectral(G, **options)\n",
    "plt.subplot(224)\n",
    "nx.draw_shell(G, nlist=[range(5,10), range(5)], **options)"
   ]
  },
  {
   "cell_type": "markdown",
   "id": "7439c8eb",
   "metadata": {},
   "source": [
    "## 3) Normalization\n",
    "Degree-based normalization ensures that each node’s contribution is proportional to its degree, preventing high-degree nodes from overwhelming low-degree nodes during message passing."
   ]
  },
  {
   "cell_type": "markdown",
   "id": "c2b65e8a",
   "metadata": {},
   "source": [
    "#### Code\n",
    "This normalized degree matrix has values 1/sqrt(𝑑_𝑖) along the diagonal where  𝑑_𝑖 is the degree of node 𝑖.\n",
    "\n",
    "The function `graph_lapl_norm(a)` computes the normalized graph Laplacian 𝐿norm = 𝐼 − 𝐷norm𝐴𝐷norm\n",
    "\n",
    "Here, `@` represents matrix multiplication.\n",
    "\n",
    "The matrix multiplication 𝐷norm𝐴𝐷norm scales each node’s connections by its degree, effectively normalizing the adjacency matrix."
   ]
  },
  {
   "cell_type": "code",
   "execution_count": 12,
   "id": "a04584bc",
   "metadata": {
    "lines_to_next_cell": 1
   },
   "outputs": [],
   "source": [
    "def degree_matrix_norm(a):\n",
    "  return torch.diag(torch.pow(a.sum(dim=-1),-0.5))\n",
    "\n",
    "def graph_lapl_norm(a):\n",
    "  size = a.shape[-1]\n",
    "  D_norm = degree_matrix_norm(a)\n",
    "  L_norm = torch.ones(size) - (D_norm @ a @ D_norm )\n",
    "  return L_norm"
   ]
  },
  {
   "cell_type": "markdown",
   "id": "a974c914",
   "metadata": {},
   "source": [
    "## 4) General Graph Convolution\n",
    "We implement Chebyshev polynomial approximation for graph convolution using the Chebyshev Laplacian. This approach is a technique for defining convolution on graphs, particularly to approximate the spectral graph convolution efficiently.\n",
    "In graph convolution, we want to use higher-order relationships (or multi-hop neighbors), which Chebyshev polynomials can approximate without directly computing costly matrix powers."
   ]
  },
  {
   "cell_type": "markdown",
   "id": "fba1d3c1",
   "metadata": {},
   "source": [
    "#### Code\n",
    "The function `find_eigmax` finds the largest eigenvalue of the graph Laplacian matrix 𝐿. The largest eigenvalue helps to rescale 𝐿 so that it is within a range that facilitates the Chebyshev approximation.\n",
    "\n",
    "The function `chebyshev_Lapl` computes the Chebyshev approximation of the graph convolution layer. Its inputs are; `X`, the node feature matrix.\n",
    "`Lapl`, the graph Laplacian matrix, `thetas`, trainable parameters (weights) for each order of the Chebyshev polynomial, and `order` the maximum power (order) of Chebyshev polynomials to compute.\n",
    "\n",
    "Here, we first rescale the laplacian to control the range of eigenvalues, then we set up initial values for Chebyshev polynomial calculations, recursively compute higher-order terms, concatenate powers, and reshape the output.\n",
    "\n",
    "After computing the Chebyshev approximation, the resulting output (with shape [nodes, order * features]) is passed through a linear layer with dimensions 4*3 (due to 4 Chebyshev orders and 3 features). This linear transformation serves as a learnable layer that combines the information from different orders to produce an output of the desired size (out_features).\n",
    "\n",
    "The variable `power_order` (set to 4 in the example) defines the number of hops or \"Chebyshev polynomial terms\" to consider."
   ]
  },
  {
   "cell_type": "code",
   "execution_count": 14,
   "id": "1284c70e",
   "metadata": {},
   "outputs": [
    {
     "name": "stdout",
     "output_type": "stream",
     "text": [
      "cheb approx out powers concatenated: torch.Size([10, 12])\n",
      "Layers output: torch.Size([10, 50])\n"
     ]
    }
   ],
   "source": [
    "import torch\n",
    "import torch.nn as nn\n",
    "\n",
    "def find_eigmax(L):\n",
    "    with torch.no_grad():\n",
    "        # Use the updated `torch.linalg.eigvals` to get eigenvalues directly\n",
    "        e1 = torch.linalg.eigvals(L)\n",
    "        # Extract the maximum absolute value for real parts\n",
    "        return torch.max(e1.real).item()\n",
    "\n",
    "def chebyshev_Lapl(X, Lapl, thetas, order):\n",
    "    list_powers = []\n",
    "    nodes = Lapl.shape[0]\n",
    "\n",
    "    T0 = X.float()\n",
    "\n",
    "    eigmax = find_eigmax(Lapl)\n",
    "    L_rescaled = (2 * Lapl / eigmax) - torch.eye(nodes)\n",
    "\n",
    "    y = T0 * thetas[0]\n",
    "    list_powers.append(y)\n",
    "    T1 = torch.matmul(L_rescaled, T0)\n",
    "    list_powers.append(T1 * thetas[1])\n",
    "\n",
    "    # Computation of: T_k = 2*L_rescaled*T_k-1 - T_k-2\n",
    "    for k in range(2, order):\n",
    "        T2 = 2 * torch.matmul(L_rescaled, T1) - T0\n",
    "        list_powers.append((T2 * thetas[k]))\n",
    "        T0, T1 = T1, T2\n",
    "    \n",
    "    y_out = torch.stack(list_powers, dim=-1)\n",
    "    y_out = y_out.view(nodes, -1)  # Concatenate the powers along nodes\n",
    "    return y_out\n",
    "\n",
    "# Testing the modified function\n",
    "features = 3\n",
    "out_features = 50\n",
    "a = torch.randint(0, 2, (10, 10), dtype=torch.float32)\n",
    "L = graph_lapl_norm(a)\n",
    "x = torch.rand(10, features)\n",
    "power_order = 4  # p-hops\n",
    "thetas = nn.Parameter(torch.rand(4))\n",
    "\n",
    "out = chebyshev_Lapl(x, L, thetas, power_order)\n",
    "\n",
    "print('cheb approx out powers concatenated:', out.shape)\n",
    "linear = nn.Linear(4 * 3, out_features)\n",
    "\n",
    "layer_out = linear(out)\n",
    "print('Layers output:', layer_out.shape)"
   ]
  },
  {
   "cell_type": "markdown",
   "id": "cca2fb80-129d-405f-8020-f0d9ec13f90c",
   "metadata": {},
   "source": [
    "## 5) Install Weights and Biases Python SDK and log in\n",
    "Weights & Biases (W&B) is a powerful tool for tracking machine learning experiments, visualizing metrics, sharing results, and managing project artifacts. It integrates seamlessly with PyTorch and other machine learning frameworks.\n",
    "\n",
    "To get started, we need to install the W&B Python SDK and log in to your W&B account. Then, we paste the API key from our W&B profile in the `wandb.login()` section."
   ]
  },
  {
   "cell_type": "code",
   "execution_count": 24,
   "id": "5bce6499-47f9-4efa-b458-d527fdde2a21",
   "metadata": {},
   "outputs": [],
   "source": [
    "!pip install wandb -qU"
   ]
  },
  {
   "cell_type": "code",
   "execution_count": 26,
   "id": "481380f9-b636-4655-98ca-72232c6d2ca2",
   "metadata": {},
   "outputs": [],
   "source": [
    "# Log in to your W&B account\n",
    "import wandb\n",
    "import random\n",
    "import math"
   ]
  },
  {
   "cell_type": "code",
   "execution_count": 28,
   "id": "273d6994-9754-4164-a0ca-cbdcfba1de38",
   "metadata": {},
   "outputs": [
    {
     "name": "stderr",
     "output_type": "stream",
     "text": [
      "wandb: Using wandb-core as the SDK backend.  Please refer to https://wandb.me/wandb-core for more information.\n",
      "wandb: Logging into wandb.ai. (Learn how to deploy a W&B server locally: https://wandb.me/wandb-server)\n",
      "wandb: You can find your API key in your browser here: https://wandb.ai/authorize\n",
      "wandb: Paste an API key from your profile and hit enter, or press ctrl+c to quit:"
     ]
    },
    {
     "name": "stdin",
     "output_type": "stream",
     "text": [
      "  ········\n"
     ]
    },
    {
     "name": "stderr",
     "output_type": "stream",
     "text": [
      "wandb: Appending key for api.wandb.ai to your netrc file: C:\\Users\\Arslan\\_netrc\n"
     ]
    },
    {
     "data": {
      "text/plain": [
       "True"
      ]
     },
     "execution_count": 28,
     "metadata": {},
     "output_type": "execute_result"
    }
   ],
   "source": [
    "wandb.login()"
   ]
  },
  {
   "cell_type": "markdown",
   "id": "e2139a80",
   "metadata": {},
   "source": [
    "## 6) Implementing 1-hop GCN layer in a small graph dataset\n",
    "Our GCN layer will be defined by the following equations along with its pytorch implementatino:\n",
    "\n",
    "Y=LnorX .W⋅\n",
    "\n",
    "Where Lnorm is the normalized graph Laplacian matrix <br> \n",
    "𝑋 is the input feature matrix for each node in the graph. Each node in the graph has its own set of features <br>.\n",
    "𝑊 is the trainable weight matrix for the graph convolution layer <br>.Y  is the output of the graph convolution operation (after applying the normalized graph Laplacian to the input features and multiplying by the weights)\n",
    "\n",
    "Lmod,norm = (1/sqrt(D))(A+I)(1/sqrt(D) )\n",
    "\n",
    "Where Lmod,norm is the normalized graph Laplacian, which is used to account for the graph structure and normalize the data based on node degrees.n"
   ]
  },
  {
   "cell_type": "markdown",
   "id": "e75920d7",
   "metadata": {},
   "source": [
    "### Dataset\n",
    "Dataset used is the [MUTAG](https://www.kaggle.com/datasets/tammodukker/mutag-dataset) dataset.\n",
    "\n",
    "In particular, MUTAG is a collection of nitroaromatic compounds and the goal is to predict their mutagenicity on Salmonella typhimurium. Input graphs are used to represent chemical compounds, where vertices stand for atoms and are labeled by the atom type (represented by one-hot encoding), while edges between vertices represent bonds between the corresponding atoms. **It includes 188 samples of chemical compounds with 7 discrete node labels**."
   ]
  },
  {
   "cell_type": "markdown",
   "id": "e218b7b2",
   "metadata": {},
   "source": [
    "#### Code\n",
    "The function `device_as` takes two tensors x and y and moves tensor x to the same device as y. This is important when we are working with multi-device environments (like when we are using a GPU), ensuring that all tensors are on the same device to avoid device mismatch errors during computation.\n",
    "\n",
    "The function `calc_degree_matrix_norm(a)` calculates the normalized degree matrix for the adjacency matrix a.\n",
    "\n",
    "The function `create_graph_lapl_norm(a)` constructs the normalized graph Laplacian, which will be used in the GCN layer.\n",
    "\n",
    "The graph convolution operation happens in the `forward` method. <br>\n",
    "It applies a linear transformation to the input feature matrix X. This is done using a fully connected layer (nn.Linear) which will learn the weights. <br> \n",
    "Then, it performs a batch matrix multiplication (bmm) to apply the graph convolution. This step propagates the features through the graph using the normalized Laplacian L. The result is a graph representation that integrates information from neighboring nodes. "
   ]
  },
  {
   "cell_type": "code",
   "execution_count": 34,
   "id": "6f8c2a4f",
   "metadata": {
    "lines_to_next_cell": 1
   },
   "outputs": [],
   "source": [
    "import numpy as np\n",
    "import torch\n",
    "from torch import nn\n",
    "import torch.nn.functional as F\n",
    "\n",
    "def device_as(x,y):\n",
    "  return x.to(y.device)\n",
    "\n",
    "# tensor operationa now support batched inputs\n",
    "def calc_degree_matrix_norm(a):\n",
    "  return torch.diag_embed(torch.pow(a.sum(dim=-1),-0.5))\n",
    "\n",
    "def create_graph_lapl_norm(a):\n",
    "  size = a.shape[-1]\n",
    "  a +=  device_as(torch.eye(size),a)\n",
    "  D_norm = calc_degree_matrix_norm(a)\n",
    "  L_norm = torch.bmm( torch.bmm(D_norm, a) , D_norm )\n",
    "  return L_norm\n",
    "\n",
    "class GCN(nn.Module):\n",
    "    \"\"\"\n",
    "    A simple GCN layer, similar to https://arxiv.org/abs/1609.02907\n",
    "    \"\"\"\n",
    "    def __init__(self, in_features, out_features, bias=True):\n",
    "      super().__init__()\n",
    "      self.linear = nn.Linear(in_features, out_features, bias=bias)\n",
    "\n",
    "    def forward(self, X, A):\n",
    "        \"\"\"\n",
    "        A: adjecency matrix\n",
    "        X: graph signal\n",
    "        \"\"\"\n",
    "        L = create_graph_lapl_norm(A)\n",
    "        x = self.linear(X)\n",
    "        return torch.bmm(L, x)"
   ]
  },
  {
   "cell_type": "markdown",
   "id": "1970d4bf",
   "metadata": {},
   "source": [
    "#### Code\n",
    "The function `indices_to_one_hot` converts an index (e.g., a class label) into a one-hot encoded vector. If the index is the \"dummy\" value (-1 by default), it returns a vector of zeros. Otherwise, it creates a one-hot encoded vector of length nb_classes where only the position corresponding to the index is 1.\n",
    "\n",
    "The function `get_graph_signal` extracts the node features (attributes) from a NetworkX graph (nx_graph). It creates a dictionary of the graph's nodes and their associated attributes (attr_dict). The resulting list x contains the attributes of each node, which will later be used as the \"graph signal\" for each node.\n",
    "\n",
    "The function `load_data` loads the graph dataset from text files, processes the graph structure, and optionally loads node labels. The function reads the graph_indicator file, which maps nodes to graphs. It creates a list Gs of graphs, adding nodes to the correct graph. Then, it reads the adjacency matrix (A.txt) and adds edges between nodes in the corresponding graphs. If use_node_labels is True, it reads the node labels and one-hot encodes them. These labels are added as node attributes to the graph. After that, it reads the graph-level labels and stores them in the labels list. Finally, the function returns a list of tuples, where each tuple contains a graph (Gs) and its corresponding label (labels).\n",
    "\n",
    "The function `create_loaders` splits the dataset into a training set and a validation set at the index split_id.\n",
    "\n",
    "The function `to_pytorch_dataset` converts the list of graphs and labels into PyTorch tensors. It wraps the dataset into a PyTorch DataLoader, which handles batching and shuffling."
   ]
  },
  {
   "cell_type": "code",
   "execution_count": 44,
   "id": "0a8702e8",
   "metadata": {},
   "outputs": [
    {
     "name": "stdout",
     "output_type": "stream",
     "text": [
      "Data are ready\n"
     ]
    }
   ],
   "source": [
    "import torchnet as tnt\n",
    "import os\n",
    "import networkx as nx\n",
    "import numpy as np\n",
    "import torch\n",
    "\n",
    "def indices_to_one_hot(number, nb_classes, label_dummy=-1):\n",
    "    \"\"\"Convert an iterable of indices to one-hot encoded labels.\"\"\"\n",
    "    if number == label_dummy:\n",
    "        return np.zeros(nb_classes)\n",
    "    else:\n",
    "        return np.eye(nb_classes)[number]\n",
    "\n",
    "def get_graph_signal(nx_graph):\n",
    "  d = dict((k, v) for k, v in nx_graph.nodes.items())\n",
    "  x = []\n",
    "  invd = {}\n",
    "  j = 0\n",
    "  for k, v in d.items():\n",
    "      x.append(v['attr_dict'])\n",
    "      invd[k] = j\n",
    "      j = j + 1\n",
    "  return np.array(x)\n",
    "\n",
    "\n",
    "def load_data(path, ds_name, secondary_path=None, secondary_ds_name=None, use_node_labels=True, max_node_label=10):\n",
    "    import os\n",
    "    import networkx as nx\n",
    "    \n",
    "    def get_file_path(primary_path, secondary_path, filename):\n",
    "        # Check if the primary file exists, otherwise use the secondary file\n",
    "        primary_file = os.path.join(primary_path, filename)\n",
    "        if os.path.exists(primary_file):\n",
    "            return primary_file\n",
    "        elif secondary_path:\n",
    "            secondary_file = os.path.join(secondary_path, filename)\n",
    "            if os.path.exists(secondary_file):\n",
    "                return secondary_file\n",
    "        raise FileNotFoundError(f\"File {filename} not found in either primary or secondary paths.\")\n",
    "    \n",
    "    node2graph = {}\n",
    "    Gs = []\n",
    "    dataset_graph_indicator = f\"{ds_name}_graph_indicator.txt\"\n",
    "    dataset_adj = f\"{ds_name}_A.txt\"\n",
    "    dataset_node_labels = f\"{ds_name}_node_labels.txt\"\n",
    "    dataset_graph_labels = f\"{ds_name}_graph_labels.txt\"\n",
    "\n",
    "    # Resolve file paths using primary and secondary locations\n",
    "    path_graph_indicator = get_file_path(path, secondary_path, dataset_graph_indicator)\n",
    "    path_adj = get_file_path(path, secondary_path, dataset_adj)\n",
    "    path_node_lab = get_file_path(path, secondary_path, dataset_node_labels)\n",
    "    path_labels = get_file_path(path, secondary_path, dataset_graph_labels)\n",
    "\n",
    "    # Load graph indicators\n",
    "    with open(path_graph_indicator, \"r\") as f:\n",
    "        c = 1\n",
    "        for line in f:\n",
    "            if line.strip():\n",
    "                node2graph[c] = int(line.strip())\n",
    "                if node2graph[c] != len(Gs):\n",
    "                    Gs.append(nx.Graph())\n",
    "                Gs[-1].add_node(c)\n",
    "            c += 1\n",
    "\n",
    "    # Load adjacency list\n",
    "    with open(path_adj, \"r\") as f:\n",
    "        for line in f:\n",
    "            edge = line.strip().split(\",\")\n",
    "            node_a, node_b = int(edge[0]), int(edge[1].strip())\n",
    "            if node_a in node2graph and node_b in node2graph:\n",
    "                Gs[node2graph[node_a] - 1].add_edge(node_a, node_b)\n",
    "\n",
    "    # Load node labels if specified\n",
    "    if use_node_labels:\n",
    "        with open(path_node_lab, \"r\") as f:\n",
    "            c = 1\n",
    "            for line in f:\n",
    "                try:\n",
    "                    node_label = indices_to_one_hot(int(line.strip()), max_node_label)\n",
    "                    Gs[node2graph[c] - 1].add_node(c, attr_dict=node_label)\n",
    "                except Exception as e:\n",
    "                    print(f\"Error processing node label at line {c}: {line.strip()} | Error: {e}\")\n",
    "                c += 1\n",
    "\n",
    "    # Load graph labels\n",
    "    labels = []\n",
    "    with open(path_labels, \"r\") as f:\n",
    "        for line in f:\n",
    "            try:\n",
    "                labels.append(int(line.strip()))\n",
    "            except ValueError as e:\n",
    "                print(f\"Error processing graph label: {line.strip()} | Error: {e}\")\n",
    "\n",
    "    return list(zip(Gs, labels))\n",
    "\n",
    "def create_loaders(dataset, batch_size, split_id, offset=-1):\n",
    "    train_dataset = dataset[:split_id]\n",
    "    val_dataset = dataset[split_id:]\n",
    "    return to_pytorch_dataset(train_dataset, offset,batch_size), to_pytorch_dataset(val_dataset, offset,batch_size)\n",
    "\n",
    "def to_pytorch_dataset(dataset, label_offset=0, batch_size=1):\n",
    "  list_set = []\n",
    "  for graph, label in dataset:\n",
    "    F, G = get_graph_signal(graph), nx.to_numpy_array(graph)  # Changed here\n",
    "    numOfNodes = G.shape[0]\n",
    "    F_tensor = torch.from_numpy(F).float()\n",
    "    G_tensor = torch.from_numpy(G).float()\n",
    "\n",
    "    # fix labels to zero-indexing\n",
    "    if label == -1:\n",
    "      label = 0\n",
    "    \n",
    "    label += label_offset\n",
    "    \n",
    "    list_set.append(tuple((F_tensor, G_tensor, label)))\n",
    "\n",
    "  dataset_tnt = tnt.dataset.ListDataset(list_set)\n",
    "  data_loader = torch.utils.data.DataLoader(dataset_tnt, shuffle=True, batch_size=batch_size)\n",
    "  return data_loader\n",
    "\n",
    "\n",
    "dataset = load_data(\n",
    "    path=\"/users/oguz.arslan1/datasets/MUTAG\",\n",
    "    ds_name=\"MUTAG\",\n",
    "    secondary_path=\"C:\\\\Users\\\\Arslan\\\\Desktop\\\\AllData\\\\MUTAG\",\n",
    "    secondary_ds_name=\"MUTAG\",\n",
    "    use_node_labels=True,\n",
    "    max_node_label=7\n",
    ")\n",
    "train_dataset, val_dataset = create_loaders(dataset, batch_size=1, split_id=150, offset=0)\n",
    "print('Data are ready')"
   ]
  },
  {
   "cell_type": "markdown",
   "id": "e72b83ee",
   "metadata": {},
   "source": [
    "#### Code\n",
    "This section defines a GNN model in PyTorch for node classification or graph-level classification.\n",
    "\n",
    "First, GNN is defined as a subclass of torch.nn.Module, the base class for all neural network models in PyTorch.\n",
    "\n",
    "Each GCN layer (self.conv1-2-3) learns a new feature representation by aggregating information from neighboring nodes. <br>\n",
    "conv1 maps the input features (in_features) to the hidden dimension (hidden_dim), while conv2 and conv3 maintain the hidden_dim size. <br>\n",
    "Here, `self.fc` is a fully connected (linear) layer that outputs class probabilities for graph classification and `self.dropout` is the dropout probability for regularizing the model.\n",
    "\n",
    "The `forward` forward pass method has inputs `x` as node features matrix with dimensions [batch_size, num_nodes, in_features] and `A` as adjacency matrix representing the graph's structure. <br>\n",
    "The 3 GCN layers apply: <br>\n",
    "    -Layer 1: self.conv1(x, A) applies the first GCN layer to the input features, followed by a ReLU activation function, F.relu(x), for non-linearity.<br>\n",
    "    -Layer 2: self.conv2(x, A) applies the second GCN layer and ReLU again.<br>\n",
    "    -Layer 3: self.conv3(x, A) applies the third GCN layer. <br>\n",
    "    \n",
    "After the GCN layers, dropout is applied with `F.dropout`, which randomly zeroes out elements of x during training to prevent overfitting.\n",
    "\n",
    "`x.mean(dim=1)` averages node embeddings across nodes to obtain a single graph embedding (graph-level representation).\n",
    "\n",
    "The final fully connected layer self.fc(x) outputs a prediction for each class, which is used for classification.\n"
   ]
  },
  {
   "cell_type": "code",
   "execution_count": null,
   "id": "5d310698",
   "metadata": {
    "lines_to_next_cell": 1
   },
   "outputs": [],
   "source": [
    "import wandb\n",
    "import torch\n",
    "import torch.nn as nn\n",
    "import torch.nn.functional as F\n",
    "\n",
    "# Initialize W&B\n",
    "wandb.init(project=\"gcn-training\", config={\n",
    "    \"in_features\": 7,\n",
    "    \"hidden_dim\": 128,\n",
    "    \"classes\": 2,\n",
    "    \"dropout\": 0.5,\n",
    "    \"learning_rate\": 0.01,\n",
    "    \"epochs\": 240,\n",
    "    \"batch_size\": 1\n",
    "})\n",
    "\n",
    "# Define model, loss, and optimizer\n",
    "class GNN(nn.Module):\n",
    "    def __init__(self, in_features=7, hidden_dim=128, classes=2, dropout=0.5):\n",
    "        super(GNN, self).__init__()\n",
    "        self.conv1 = GCN(in_features, hidden_dim)\n",
    "        self.conv2 = GCN(hidden_dim, hidden_dim)\n",
    "        self.conv3 = GCN(hidden_dim, hidden_dim)\n",
    "        self.fc = nn.Linear(hidden_dim, classes)\n",
    "        self.dropout = dropout\n",
    "\n",
    "    def forward(self, x, A):\n",
    "        x = self.conv1(x, A)\n",
    "        x = F.relu(x)\n",
    "        x = self.conv2(x, A)\n",
    "        x = F.relu(x)\n",
    "        x = self.conv3(x, A)\n",
    "        x = F.dropout(x, p=self.dropout, training=self.training)\n",
    "        x = x.mean(dim=1)  # Aggregate node embeddings\n",
    "        return self.fc(x)"
   ]
  },
  {
   "cell_type": "markdown",
   "id": "5b379be1",
   "metadata": {},
   "source": [
    "#### Code\n",
    "\n",
    "We first define the loss function as cross-entropy loss and then set the device to GPU (if available) or CPU.\n",
    "\n",
    "We create an instance of the GNN class with specified input features, hidden dimensions, and output classes. This model is then moved to the selected device (CPU or GPU). Then, we initialize the Stochastic Gradient Descent (SGD) optimizer, which adjusts model parameters during training to minimize the loss.\n",
    "\n",
    "We then set the model in training mode, enabling features like dropout (used in regularization). And loop over batches in train_loader, which loads the training data in mini-batches. <br>\n",
    "Here, we extract node features X, adjacency matrix A, and labels from each batch, move them to the selected device, and run a forward pass, which applies the GNN layers and returns predictions. <br>\n",
    "After that, we calculate the loss by comparing predictions (`out`) to the true labels, backpropagate to compute gradients for each model parameter, and update the parameters using gradients computed during backpropagation.\n",
    "\n",
    "After these, we put the model in evaluation mode, which disables certain layers like dropout. We initialize a counter for correctly classified samples and iterate over the data batches in the specified loader. <br>\n",
    "We find the predicted class for each sample by selecting the index of the highest output value. Then, we compare predictions (`pred`) with the actual labels and counts correct predictions. We finally compute and return the accuracy as the fraction of correct predictions.\n",
    "\n",
    "In the end, we apply a training loop. <br>\n",
    "We first initialize a variable to store the highest validation accuracy found during training and enter the main training loop running for 240 epochs. <br> We call the train function to update model parameters based on the training data and calculate the model’s accuracy on the training set.\n",
    "Then, we calculate the model’s accuracy on the validation set, check if the current validation accuracy exceeds the best accuracy so far and update them accordingly.\n",
    "Every 10 epochs, we print the current epoch, training accuracy, validation accuracy, and the best validation accuracy seen so far."
   ]
  },
  {
   "cell_type": "code",
   "execution_count": null,
   "id": "b4e398e1",
   "metadata": {},
   "outputs": [],
   "source": [
    "# Only check for cuda if it's available\n",
    "criterion = torch.nn.CrossEntropyLoss()\n",
    "device = 'cuda' if torch.cuda.is_available() else 'cpu'\n",
    "\n",
    "print(f'Training on {device}')\n",
    "model = GNN(in_features = 7,\n",
    "                hidden_dim = 128,\n",
    "                classes = 2).to(device)\n",
    "\n",
    "optimizer= torch.optim.SGD(model.parameters(), lr=0.01)\n",
    "\n",
    "# Train and test functions with .to(device)\n",
    "def train(train_loader):\n",
    "    model.train()\n",
    "\n",
    "    for data in train_loader: \n",
    "      optimizer.zero_grad()  \n",
    "      X, A, labels = data\n",
    "      X, A, labels = X.to(device), A.to(device), labels.to(device)  \n",
    "      # Forward pass.\n",
    "      out = model(X, A)  \n",
    "      # Compute the graph classification loss.\n",
    "      loss = criterion(out, labels) \n",
    "      # Calculate gradients.\n",
    "      loss.backward()  \n",
    "      # Updates the models parameters\n",
    "      optimizer.step() \n",
    "\n",
    "def test(loader):\n",
    "  model.eval()\n",
    "  correct = 0\n",
    "  for data in loader:\n",
    "    X, A, labels = data\n",
    "    X, A, labels = X.to(device), A.to(device), labels.to(device)  \n",
    "    # Forward pass.\n",
    "    out = model(X, A)  \n",
    "    # Take the index of the class with the highest probability.\n",
    "    pred = out.argmax(dim=1) \n",
    "    # Compare with ground-truth labels.\n",
    "    correct += int((pred == labels).sum()) \n",
    "  return correct / len(loader.dataset)  \n",
    "\n",
    "best_val = -1\n",
    "for epoch in range(1, 241):\n",
    "    train(train_dataset)\n",
    "    train_acc = test(train_dataset)\n",
    "    val_acc = test(val_dataset)\n",
    "    if val_acc>best_val:\n",
    "      best_val = val_acc\n",
    "      epoch_best = epoch\n",
    "    \n",
    "    if epoch%10==0:\n",
    "      print(f'Epoch: {epoch:03d}, Train Acc: {train_acc:.4f}, Val Acc: {val_acc:.4f} || Best Val Score: {best_val:.4f} (Epoch {epoch_best:03d}) ')"
   ]
  },
  {
   "cell_type": "markdown",
   "id": "d2df01b4",
   "metadata": {},
   "source": [
    "## 7) Saving the trained model for deployment\n",
    "In PyTorch, saving the model involves saving its state dictionary (which holds the parameters of the model) to a file."
   ]
  },
  {
   "cell_type": "code",
   "execution_count": null,
   "id": "663e3eca",
   "metadata": {},
   "outputs": [],
   "source": [
    "# After training completes\n",
    "model_path = 'gnn_model.pth'\n",
    "\n",
    "# Save the model's state dictionary (assuming training is done)\n",
    "torch.save(model.state_dict(), model_path)\n",
    "print(f'Model saved to {model_path}')\n",
    "\n",
    "# Extra saving for the cluster machine\n",
    "cluster_model_path = '/users/oguz.arslan1/models/simple_gnn_model.pth'\n",
    "torch.save(model.state_dict(), cluster_model_path)\n",
    "print(f'Model also saved to cluster {cluster_model_path}')\n",
    "\n",
    "# Define a function to create a new sample graph manually\n",
    "def create_sample_graph():\n",
    "  # Create a NetworkX graph\n",
    "  G = nx.Graph()\n",
    "\n",
    "  # Add nodes with features (replace these with your desired features)\n",
    "  G.add_node(0, attr_dict=np.array([0.2, 0.5, 0.1, 1.0, 0.8, 0.3, 0.7]))\n",
    "  G.add_node(1, attr_dict=np.array([0.8, 0.2, 0.9, 0.4, 0.6, 0.5, 0.1]))\n",
    "  G.add_node(2, attr_dict=np.array([0.1, 0.7, 0.4, 0.2, 0.3, 0.8, 0.9]))\n",
    "\n",
    "  # Add edges between nodes (replace these with your desired connections)\n",
    "  G.add_edge(0, 1)\n",
    "  G.add_edge(1, 2)\n",
    "  G.add_edge(0, 2)\n",
    "\n",
    "  return G\n",
    "\n",
    "# Create a new graph using the defined function\n",
    "new_graph = create_sample_graph()\n",
    "\n",
    "import matplotlib.pyplot as plt\n",
    "\n",
    "# Visualize the graph\n",
    "plt.figure(figsize=(6, 4))\n",
    "nx.draw_networkx(new_graph, with_labels=True, node_color='skyblue', node_size=500, font_size=10, font_weight='bold', edge_color='gray', width=2)\n",
    "plt.title(\"New Graph\")\n",
    "plt.axis('off')\n",
    "plt.savefig(\"/users/oguz.arslan1/outputs/images/new_graph.png\")\n",
    "\n",
    "# Load the trained model\n",
    "model = GNN(in_features=7, hidden_dim=128, classes=2)\n",
    "model.load_state_dict(torch.load(model_path))\n",
    "model = model.to(device)  # Move the model to the appropriate device\n",
    "model.eval()  # Set the model to evaluation mode\n",
    "\n",
    "# Prepare node features and adjacency matrix\n",
    "X = torch.from_numpy(get_graph_signal(new_graph)).float().to(device)\n",
    "A = torch.from_numpy(nx.to_numpy_array(new_graph)).float().to(device)\n",
    "\n",
    "# Add batch dimension if the model expects it\n",
    "X = X.unsqueeze(0)\n",
    "A = A.unsqueeze(0)\n",
    "\n",
    "# Forward pass through the model\n",
    "with torch.no_grad():\n",
    "  output = model(X, A)\n",
    "  predicted_class = output.argmax(dim=1).item()\n",
    "\n",
    "print(f\"Predicted class for the new graph: {predicted_class}\")"
   ]
  },
  {
   "cell_type": "code",
   "execution_count": null,
   "id": "91d7ea3c",
   "metadata": {},
   "outputs": [],
   "source": []
  }
 ],
 "metadata": {
  "jupytext": {
   "cell_metadata_filter": "-all",
   "main_language": "python",
   "notebook_metadata_filter": "-all"
  },
  "kernelspec": {
   "display_name": "Python 3 (ipykernel)",
   "language": "python",
   "name": "python3"
  },
  "language_info": {
   "codemirror_mode": {
    "name": "ipython",
    "version": 3
   },
   "file_extension": ".py",
   "mimetype": "text/x-python",
   "name": "python",
   "nbconvert_exporter": "python",
   "pygments_lexer": "ipython3",
   "version": "3.12.4"
  }
 },
 "nbformat": 4,
 "nbformat_minor": 5
}
